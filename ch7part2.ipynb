{
 "cells": [
  {
   "cell_type": "markdown",
   "metadata": {},
   "source": [
    "<style>\n",
    "\th1 {\n",
    "\t--\tbackground-color: grey;\n",
    "\t\tcolor: yellow\n",
    "\t\tborder: 3px solid grey\n",
    "\n",
    "\t}\n",
    "\tp {\n",
    "\t\tbackground-color: grey;\n",
    "\t\tcolor: white\n",
    "\t\tborder: 3px solid grey\n",
    "\n",
    "\t}\n",
    "</style>\n",
    "<h1> Chapter 7 List: Part 2</h1>"
   ]
  },
  {
   "cell_type": "markdown",
   "metadata": {},
   "source": [
    "<p style=\"margin-left:40px\"> 7.6 zip() </p>\n",
    "\n",
    "<p style=\"margin-left:40px\"> 7.7 map()</p>\n",
    "\n",
    "<p style=\"margin-left:40px\"> 7.8 filter()</p>\n",
    "\n",
    "<p style=\"margin-left:40px\"> 7.9 reduce()</p>\n",
    "\n",
    "<p style=\"margin-left:40px\"> 7.10 Programming Exercise </p>\n"
   ]
  },
  {
   "cell_type": "markdown",
   "metadata": {},
   "source": [
    "***\n",
    "\n",
    "## <p style=\"background-color: grey; color: white \"> ◼️  List </p>\n",
    "# <p style=\"font-family: Arial; font-size:1.4em;color:red;\"> 6. zip() </p>\n",
    "![zip](./png/zip.png)"
   ]
  },
  {
   "cell_type": "markdown",
   "metadata": {},
   "source": [
    "<style>\n",
    "\th3{\n",
    "\t\tbackground-color: grey\n",
    "\t\tcolor: white\n",
    "\t}\n",
    "</style>\n",
    "\n",
    "<h1> Understanding the zip() </h1>\n",
    "\n",
    "- Run all the following code cells and check out the result of code segments"
   ]
  },
  {
   "cell_type": "markdown",
   "metadata": {},
   "source": [
    "#### <p style=\"font-family: Arial; font-size:1.4em; background-color: yellow; color:black;\"> Problem #6.1 </p>\n",
    "\n",
    "#### Run all the cells and figure out the Mutal Data Type "
   ]
  },
  {
   "cell_type": "code",
   "execution_count": 1,
   "metadata": {},
   "outputs": [
    {
     "name": "stdout",
     "output_type": "stream",
     "text": [
      "[(1, 4, 7), (2, 5, 8), (3, 6, 9)]\n"
     ]
    }
   ],
   "source": [
    "n1 = [1, 2, 3]\n",
    "n2 = [4, 5, 6]\n",
    "n3 = [7, 8, 9]\n",
    "\n",
    "print(list(zip(n1, n2, n3))) # the function zip, pack the elements of the lists n1, n2 and n3 in\n",
    "# a list of three tuples, by picking one by one elements from each list to make a new transfromed list"
   ]
  },
  {
   "cell_type": "code",
   "execution_count": 3,
   "metadata": {},
   "outputs": [
    {
     "name": "stdout",
     "output_type": "stream",
     "text": [
      "[1, 2, 3] [4, 5, 6] [7, 8, 9]\n"
     ]
    }
   ],
   "source": [
    "numbers = [ [1, 2, 3], [4, 5, 6], [7, 8, 9]]\n",
    "print (*numbers)   # the * operator indicate unpack elements (sub list) from the list 'numbers'\n",
    "\n",
    "# than print each sub list separated\n",
    "# similar to print([1, 2, 3], [4, 5, 6], [7, 8, 9])"
   ]
  },
  {
   "cell_type": "code",
   "execution_count": 4,
   "metadata": {},
   "outputs": [
    {
     "data": {
      "text/plain": [
       "[(1, 4, 7), (2, 5, 8), (3, 6, 9)]"
      ]
     },
     "execution_count": 4,
     "metadata": {},
     "output_type": "execute_result"
    }
   ],
   "source": [
    "zip_object = zip([1,2,3], [4,5,6], [7,8,9]) # passing three arguments to zip function to make a zipped object\n",
    "new_list = list(zip_object)                 # passing the zipped object to make a list of tuples\n",
    "new_list\n",
    "\n",
    "# packing elements of each sub_list using zip() function to make a new list of three tuples\n"
   ]
  },
  {
   "cell_type": "code",
   "execution_count": 5,
   "metadata": {},
   "outputs": [
    {
     "name": "stdout",
     "output_type": "stream",
     "text": [
      "[(1, 4, 7), (2, 5, 8), (3, 6, 9)]\n"
     ]
    }
   ],
   "source": [
    "numbers = [ [1, 2, 3], [4, 5, 6], [7, 8, 9]]\n",
    "\n",
    "new_numbers = list(zip(*numbers)) # this will unzip the sub lists into three new sub lists using\n",
    "  \n",
    "# zip() function with the operator '*'\n",
    "\n",
    "print(new_numbers)\n",
    "\n",
    "# the out put is a transformed new list of numbers \n"
   ]
  },
  {
   "cell_type": "markdown",
   "metadata": {},
   "source": [
    "#### <p style=\"font-family: Arial; font-size:1.4em; background-color: yellow; color:black;\"> Problem #6.2 </p>\n",
    "\n",
    "#### There are students records in the Students list. \n",
    "#### Each student record is a list that contains the student name, age, and [math score, science score, english score].\n",
    "```\n",
    "students = [\n",
    "    [\"John\", 23, [80, 90, 85]],\n",
    "    [\"Jane\", 22, [85, 95, 90]] ]\n",
    "```\n",
    "#### Make a function that returns the list of scores by subject, for example,\n",
    "```\n",
    "scores_by_subject = [\n",
    "    [math_score1, math_score2, math_score3],\n",
    "    [science_score1, science_score2, science_score3],\n",
    "    [english_score1, english_score2, english_score3]\n",
    "]\n",
    "for example,\n",
    "    [[80, 85], [90, 95], [85, 90]]\n",
    "```\n",
    "#### return value: the list of list of scores by subject\n"
   ]
  },
  {
   "cell_type": "code",
   "execution_count": 30,
   "metadata": {},
   "outputs": [
    {
     "name": "stdout",
     "output_type": "stream",
     "text": [
      "Scores:  [[80, 90, 85], [85, 95, 90], [75, 80, 85], [90, 95, 90], [80, 85, 80], [70, 75, 70], [60, 65, 60]]\n",
      "Scores By Subject:  [[80, 85, 75, 90, 80, 70, 60], [90, 95, 80, 95, 85, 75, 65], [85, 90, 85, 90, 80, 70, 60]] \n",
      "\n",
      "Math Scores:\tScience Scores:\t\tEnglish Scores:\n",
      "80              90                      85\n",
      "85              95                      90\n",
      "75              80                      85\n",
      "90              95                      90\n",
      "80              85                      80\n",
      "70              75                      70\n",
      "60              65                      60\n"
     ]
    }
   ],
   "source": [
    "def get_scores_by_subject(students):\n",
    "    ########################\n",
    "    # Write your code here #\n",
    "    ########################\n",
    "\n",
    "    # get scores from each student:\n",
    "    scores = [student[2] for student in students]\n",
    "\n",
    "    # transposing the scores using zip() function with '*' operator:\n",
    "    scores_by_subject_1 = list(zip(*scores))\n",
    "\n",
    "    # cast each tuple to a list:\n",
    "    scores_by_subject = []\n",
    "\n",
    "    for tpl in scores_by_subject_1:\n",
    "        scores_by_subject.append(list(tpl))\n",
    "    \n",
    "\n",
    "    return scores_by_subject, scores\n",
    "\n",
    "\n",
    "\n",
    "students = [\n",
    "    [\"John\", 23, [80, 90, 85]],\n",
    "    [\"Jane\", 22, [85, 95, 90]],\n",
    "    [\"Doe\", 24, [75, 80, 85]],\n",
    "    [\"Kim\", 25, [90, 95, 90]],\n",
    "    [\"Jill\", 26, [80, 85, 80]],\n",
    "    [\"Elizabeth\", 27, [70, 75, 70]],\n",
    "    [\"Kyle\", 28, [60, 65, 60]] \n",
    "]\n",
    "\n",
    "scores_by_subject, scores = get_scores_by_subject(students)\n",
    "\n",
    "print('Scores: ', scores)\n",
    "print('Scores By Subject: ', scores_by_subject, '\\n')\n",
    "\n",
    "print('Math Scores:\\tScience Scores:\\t\\tEnglish Scores:')\n",
    "for score in zip(*scores_by_subject):\n",
    "    print(f'{score[0]}{score[1]:>16}{score[2]:>24}')\n"
   ]
  },
  {
   "cell_type": "markdown",
   "metadata": {},
   "source": [
    "#### <p style=\"font-family: Arial; font-size:1.4em; background-color: yellow; color:black;\"> Problem #6.3 </p>\n",
    "\n",
    "### Use zip() and list() to make the function that reconstruct the list of list which is the transpose of the list of list of integer values. \n",
    "#### Make the function that reconstruct the list of list which is the transpose of the list of list of integer values. \n",
    "#### For example, \n",
    "```\n",
    "input: [[1, 2, 3], [4, 5, 6], [7, 8, 9]]\n",
    "output: [[1, 4, 7], [2, 5, 8], [3, 6, 9]]\n",
    "\n",
    "def transpose(matrix):\n",
    "    ########################\n",
    "    # Write your code here #\n",
    "    ########################\n",
    "    return new_list\n",
    "\n",
    "numbers = [[1, 2, 3], [4, 5, 6], [7, 8, 9]]\n",
    "new_numbers = transpose(numbers)\n",
    "print(new_numbers)\n",
    "````\n",
    "\n"
   ]
  },
  {
   "cell_type": "code",
   "execution_count": 11,
   "metadata": {},
   "outputs": [
    {
     "name": "stdout",
     "output_type": "stream",
     "text": [
      "[(1, 4, 7), (2, 5, 8), (3, 6, 9)]\n"
     ]
    }
   ],
   "source": [
    "# Hint: Use the zip(*)\n",
    "num = [(1,2,3), (4,5,6), (7,8,9)]\n",
    "new_num = list(zip(*num))\n",
    "print(new_num)"
   ]
  },
  {
   "cell_type": "code",
   "execution_count": 35,
   "metadata": {},
   "outputs": [
    {
     "name": "stdout",
     "output_type": "stream",
     "text": [
      "[[1, 4, 7], [2, 5, 8], [3, 6, 9]]\n"
     ]
    }
   ],
   "source": [
    "def transpose(matrix):\n",
    "    #################################\n",
    "    # Write your code here #\n",
    "    #################################\n",
    "\n",
    "    zipped_object = zip(*matrix)  # create zipped object using zip() with '*' operator\n",
    "\n",
    "    new_list_tuples = list(zipped_object)    # making a list of tuples from the created object \n",
    "    \n",
    "    # casting each tule to a list:\n",
    "    new_list = []\n",
    "    for tpl in new_list_tuples:\n",
    "        new_list.append(list(tpl))\n",
    "\n",
    "    return new_list\n",
    "\n",
    "\n",
    "numbers = [[1, 2, 3], [4, 5, 6], [7, 8, 9]]\n",
    "new_numbers = transpose(numbers)\n",
    "print(new_numbers)\n"
   ]
  },
  {
   "cell_type": "markdown",
   "metadata": {},
   "source": [
    "#### <p style=\"font-family: Arial; font-size:1.4em; background-color: yellow; color:black;\"> Problem #6.4 zip(*listvalue)</p>\n",
    "\n",
    "#### Write a function that takes a list of strings as input and returns a new list where each element is formed by combining the characters at the same position from all input strings. If a string is shorter than others, it should be stopped at the end of the shortest string \n",
    "\n",
    "#### Use the zip(*)\n",
    "```\n",
    "Input:\n",
    "A list of strings, where each string can have a different length.\n",
    "Output:\n",
    "A list of strings, where each string is formed by combining characters from the input strings at the same position.\n",
    "---\n",
    "Example:\n",
    "list of string values list_str: ['Python', 'C++', 'Java'] \n",
    "The return value should be ['PCJ', 'y+a', 't+v'] because the shortest string is 'C++'\n",
    "\n",
    "````\n",
    "\n"
   ]
  },
  {
   "cell_type": "code",
   "execution_count": 36,
   "metadata": {},
   "outputs": [
    {
     "name": "stdout",
     "output_type": "stream",
     "text": [
      "[('P', 'C', 'J'), ('y', '+', 'a'), ('t', '+', 'v')]\n"
     ]
    }
   ],
   "source": [
    "# Hint: Use the zip(*)\n",
    "str_list = ['Python', 'C++', 'Java']\n",
    "new_list = zip(*str_list)\n",
    "print(list(new_list))"
   ]
  },
  {
   "cell_type": "code",
   "execution_count": 37,
   "metadata": {},
   "outputs": [
    {
     "name": "stdout",
     "output_type": "stream",
     "text": [
      "[('P', 'C', 'J'), ('y', '+', 'a'), ('t', '+', 'v')]\n"
     ]
    }
   ],
   "source": [
    "def combine_characters(list_str):\n",
    "    #################################\n",
    "    # Write your code here #\n",
    "    #################################\n",
    "    str_list_obj = zip(*list_str)\n",
    "    \n",
    "    new_list = list(str_list_obj)\n",
    "\n",
    "    return new_list\n",
    "\n",
    "\n",
    "list_str = ['Python', 'C++', 'Java']\n",
    "new_list = combine_characters(list_str)\n",
    "print(new_list)\n"
   ]
  },
  {
   "cell_type": "markdown",
   "metadata": {},
   "source": [
    "<mark> Save your file by pressing \"Ctrl+S\" or \"git commit -am \"your message\"\" </mark> "
   ]
  },
  {
   "cell_type": "markdown",
   "metadata": {},
   "source": [
    "***\n",
    "\n",
    "## <p style=\"background-color: grey; color: white \"> ◼️  List </p>\n",
    "# <p style=\"font-family: Arial; font-size:1.4em;color:red;\"> 7. map() </p>\n",
    "![map](./png/Map.png)"
   ]
  },
  {
   "cell_type": "markdown",
   "metadata": {},
   "source": [
    "## Basic Syntax\n",
    "```\n",
    "map(function, iterable)\n",
    "```\n",
    "\n",
    "The map() function in Python applies a given function to every item of an iterable (like a list) and returns a map object (which is an iterator). It is useful for transforming data using a function without the need for explicit loops."
   ]
  },
  {
   "cell_type": "markdown",
   "metadata": {},
   "source": [
    "## Example 1: Square each element in the list\n",
    "\n",
    "```\n",
    "def square(x):\n",
    "    return x ** 2\n",
    "\n",
    "numbers = [1, 2, 3, 4, 5]\n",
    "squared_numbers = list(map(square, numbers))\n",
    "print(squared_numbers)\n",
    "```\n"
   ]
  },
  {
   "cell_type": "code",
   "execution_count": 38,
   "metadata": {},
   "outputs": [
    {
     "name": "stdout",
     "output_type": "stream",
     "text": [
      "[1, 4, 9, 16, 25]\n"
     ]
    }
   ],
   "source": [
    "# Test the above code \n",
    "\n",
    "# Type the code in the cell below and run the cell\n",
    "def square(x):\n",
    "    return x ** 2\n",
    "\n",
    "numbers = [1, 2, 3, 4, 5]\n",
    "squared_numbers = list(map(square, numbers))\n",
    "\n",
    "print(squared_numbers)"
   ]
  },
  {
   "cell_type": "markdown",
   "metadata": {},
   "source": [
    "## Example 2: Convert a list of strings to Uppercase \n",
    "\n",
    "```\n",
    "strval = ['python', 'c++', 'java']\n",
    "new_list = list(map(str.upper, strval))\n",
    "print(new_list)\n",
    "```\n",
    "\n",
    "## Example 3: Convert a list of integers to a list of strings\n",
    "\n",
    "```\n",
    "numbers = [1, 2, 3, 4, 5]\n",
    "new_list = list(map(str, numbers))\n",
    "print(new_list)\n",
    "```\n"
   ]
  },
  {
   "cell_type": "code",
   "execution_count": 64,
   "metadata": {},
   "outputs": [
    {
     "name": "stdout",
     "output_type": "stream",
     "text": [
      "['PYTHON', 'C++', 'JAVA']\n"
     ]
    },
    {
     "ename": "TypeError",
     "evalue": "'list' object is not callable",
     "output_type": "error",
     "traceback": [
      "\u001b[1;31m---------------------------------------------------------------------------\u001b[0m",
      "\u001b[1;31mTypeError\u001b[0m                                 Traceback (most recent call last)",
      "\u001b[1;32m<ipython-input-64-94f510bc186b>\u001b[0m in \u001b[0;36m<module>\u001b[1;34m\u001b[0m\n\u001b[0;32m     19\u001b[0m \u001b[1;33m\u001b[0m\u001b[0m\n\u001b[0;32m     20\u001b[0m \u001b[0mintg\u001b[0m \u001b[1;33m=\u001b[0m \u001b[1;33m[\u001b[0m\u001b[1;36m1\u001b[0m\u001b[1;33m,\u001b[0m \u001b[1;36m2\u001b[0m\u001b[1;33m,\u001b[0m \u001b[1;36m3\u001b[0m\u001b[1;33m,\u001b[0m \u001b[1;36m4\u001b[0m\u001b[1;33m,\u001b[0m \u001b[1;36m5\u001b[0m\u001b[1;33m]\u001b[0m\u001b[1;33m\u001b[0m\u001b[1;33m\u001b[0m\u001b[0m\n\u001b[1;32m---> 21\u001b[1;33m \u001b[0mobj\u001b[0m \u001b[1;33m=\u001b[0m \u001b[0mlist\u001b[0m\u001b[1;33m(\u001b[0m\u001b[0mmap\u001b[0m\u001b[1;33m(\u001b[0m\u001b[0mcast\u001b[0m\u001b[1;33m,\u001b[0m \u001b[0mintg\u001b[0m\u001b[1;33m)\u001b[0m\u001b[1;33m)\u001b[0m\u001b[1;33m\u001b[0m\u001b[1;33m\u001b[0m\u001b[0m\n\u001b[0m\u001b[0;32m     22\u001b[0m \u001b[1;33m\u001b[0m\u001b[0m\n\u001b[0;32m     23\u001b[0m \u001b[0mprint\u001b[0m\u001b[1;33m(\u001b[0m\u001b[0mobj\u001b[0m\u001b[1;33m)\u001b[0m\u001b[1;33m\u001b[0m\u001b[1;33m\u001b[0m\u001b[0m\n",
      "\u001b[1;32m<ipython-input-64-94f510bc186b>\u001b[0m in \u001b[0;36mcast\u001b[1;34m(number)\u001b[0m\n\u001b[0;32m     16\u001b[0m \u001b[1;31m# Example 03, convert integers to strings:\u001b[0m\u001b[1;33m\u001b[0m\u001b[1;33m\u001b[0m\u001b[1;33m\u001b[0m\u001b[0m\n\u001b[0;32m     17\u001b[0m \u001b[1;32mdef\u001b[0m \u001b[0mcast\u001b[0m\u001b[1;33m(\u001b[0m\u001b[0mnumber\u001b[0m\u001b[1;33m)\u001b[0m\u001b[1;33m:\u001b[0m\u001b[1;33m\u001b[0m\u001b[1;33m\u001b[0m\u001b[0m\n\u001b[1;32m---> 18\u001b[1;33m     \u001b[1;32mreturn\u001b[0m \u001b[0mstr\u001b[0m\u001b[1;33m(\u001b[0m\u001b[0mnumber\u001b[0m\u001b[1;33m)\u001b[0m\u001b[1;33m\u001b[0m\u001b[1;33m\u001b[0m\u001b[0m\n\u001b[0m\u001b[0;32m     19\u001b[0m \u001b[1;33m\u001b[0m\u001b[0m\n\u001b[0;32m     20\u001b[0m \u001b[0mintg\u001b[0m \u001b[1;33m=\u001b[0m \u001b[1;33m[\u001b[0m\u001b[1;36m1\u001b[0m\u001b[1;33m,\u001b[0m \u001b[1;36m2\u001b[0m\u001b[1;33m,\u001b[0m \u001b[1;36m3\u001b[0m\u001b[1;33m,\u001b[0m \u001b[1;36m4\u001b[0m\u001b[1;33m,\u001b[0m \u001b[1;36m5\u001b[0m\u001b[1;33m]\u001b[0m\u001b[1;33m\u001b[0m\u001b[1;33m\u001b[0m\u001b[0m\n",
      "\u001b[1;31mTypeError\u001b[0m: 'list' object is not callable"
     ]
    }
   ],
   "source": [
    "# Test the above code \n",
    "\n",
    "# Type the code in the cell below and run the cell\n",
    "\n",
    "# Example-02: \n",
    "# convert list of strin to upper:\n",
    "\n",
    "def convert(str):\n",
    "    return str.upper()\n",
    "\n",
    "strval = ['python', 'c++', 'java']\n",
    "\n",
    "new_list = list(map(convert, strval))   # applies the conv_string to each element in strval list\n",
    "print(new_list)\n",
    "\n",
    "# Example 03, convert integers to strings:\n",
    "def cast(number):\n",
    "    return str(number)\n",
    "\n",
    "intg = [1, 2, 3, 4, 5]  \n",
    "obj = list(map(cast, intg))\n",
    "\n",
    "print(obj)\n"
   ]
  },
  {
   "cell_type": "markdown",
   "metadata": {},
   "source": [
    "<p style=\"font-family: Arial; font-size:1.4em; background-color: yellow; color:black;\"> Problem 7.1  map()</p>"
   ]
  },
  {
   "cell_type": "markdown",
   "metadata": {},
   "source": [
    "#### Find the Length of Each String in a List\n",
    "#### Definition: Use the map() function to create a list of the lengths of each string in a list of words.\n",
    "\n",
    "#### Example:\n",
    "```\n",
    "words = ['apple', 'banana', 'cherry']\n",
    "# Your map() usage should return [5, 6, 6]\n",
    "```"
   ]
  },
  {
   "cell_type": "code",
   "execution_count": 69,
   "metadata": {},
   "outputs": [
    {
     "name": "stdout",
     "output_type": "stream",
     "text": [
      "[5, 6, 6]\n"
     ]
    }
   ],
   "source": [
    "def find_length(words):\n",
    "    #################################\n",
    "    # Write your code here #\n",
    "    # Use the map() function\n",
    "    #################################\n",
    "\n",
    "    # using map to get length of each word in the list of words:\n",
    "    new_list = list(map(len, words))  # applies 'len' built-in function to each word in the list 'words'    \n",
    "    \n",
    "    return new_list\n",
    "\n",
    "# example of usage:\n",
    "words = ['apple', 'banana', 'cherry']\n",
    "\n",
    "# calling the defined function 'find_lenth':\n",
    "new_list = find_length(words)  \n",
    "print(new_list)"
   ]
  },
  {
   "cell_type": "markdown",
   "metadata": {},
   "source": [
    "<p style=\"font-family: Arial; font-size:1.4em; background-color: yellow; color:black;\"> Problem 7.2  map()</p>"
   ]
  },
  {
   "cell_type": "markdown",
   "metadata": {},
   "source": [
    "#### Multiply Corresponding Elements in Two Lists\n",
    "#### Definition: Use the map() function to multiply corresponding elements in two lists.\n",
    "\n",
    "#### Example:\n",
    "```\n",
    "list1 = [1, 2, 3]\n",
    "list2 = [4, 5, 6]\n",
    "# Your functionshould return [4, 10, 18]\n",
    "\n",
    "def multiply_elements(list1, list2):\n",
    "    #################################\n",
    "    # Write your code here #\n",
    "    #################################\n",
    "    return new_list\n",
    "```"
   ]
  },
  {
   "cell_type": "code",
   "execution_count": 70,
   "metadata": {},
   "outputs": [
    {
     "name": "stdout",
     "output_type": "stream",
     "text": [
      "1 4\n",
      "2 5\n",
      "3 6\n",
      "[None, None, None]\n"
     ]
    }
   ],
   "source": [
    "# Hint: You can pass multiple iterables to map() by using a lambda function that takes two arguments.\n",
    "list1 = [1, 2, 3]\n",
    "list2 = [4, 5, 6]\n",
    "new_list = list(map(lambda x,y: print(x,y), list1, list2))\n",
    "print(new_list)\n"
   ]
  },
  {
   "cell_type": "code",
   "execution_count": 71,
   "metadata": {},
   "outputs": [
    {
     "name": "stdout",
     "output_type": "stream",
     "text": [
      "[4, 10, 18]\n"
     ]
    }
   ],
   "source": [
    "def multiply_elements(list1, list2):\n",
    "    #################################\n",
    "    # Write your code here #\n",
    "    #################################\n",
    "    \n",
    "    new_list = list(map(lambda x, y: x * y, list1, list2))\n",
    "\n",
    "    return new_list \n",
    "\n",
    "\n",
    "list1 = [1, 2, 3]\n",
    "list2 = [4, 5, 6]\n",
    "\n",
    "new_list = multiply_elements(list1, list2)\n",
    "print(new_list)\n",
    "\n",
    "# Complete the code\n",
    "# Return value should be [4, 10, 18]"
   ]
  },
  {
   "cell_type": "markdown",
   "metadata": {},
   "source": [
    "<p style=\"font-family: Arial; font-size:1.4em; background-color: yellow; color:black;\"> Problem 7.3  map()</p>"
   ]
  },
  {
   "cell_type": "markdown",
   "metadata": {},
   "source": [
    "#### Round Each Number in a List to Two Decimal Places\n",
    "#### Definition: Write a program that rounds each floating-point number in a list to two decimal places using map().\n",
    "\n",
    "#### Example:\n",
    "```\n",
    "numbers = [3.14159, 2.71828, 1.61803, 0.57721]\n",
    "# Your function should return [3.14, 2.72, 1.62, 0.58]\n",
    "\n",
    "def round_numbers(numbers):\n",
    "    #################################\n",
    "    # Write your code here #\n",
    "    #################################\n",
    "```"
   ]
  },
  {
   "cell_type": "code",
   "execution_count": 72,
   "metadata": {},
   "outputs": [
    {
     "data": {
      "text/plain": [
       "1.23"
      ]
     },
     "execution_count": 72,
     "metadata": {},
     "output_type": "execute_result"
    }
   ],
   "source": [
    "n = 1.23456\n",
    "strval = f'{n:.2f}'\n",
    "newval = float(strval)\n",
    "newval"
   ]
  },
  {
   "cell_type": "code",
   "execution_count": 84,
   "metadata": {},
   "outputs": [
    {
     "name": "stdout",
     "output_type": "stream",
     "text": [
      "[3.14, 2.72, 1.62, 0.58]\n"
     ]
    }
   ],
   "source": [
    "def round_numbers(numbers):\n",
    "    #################################\n",
    "    # Write your code here #\n",
    "    #################################\n",
    "    \n",
    "    new_numbers = list(map(lambda n: float(f'{n: .2f}'), numbers))\n",
    "     \n",
    "    return new_numbers\n",
    "\n",
    "\n",
    "numbers = [3.14159, 2.71828, 1.61803, 0.57721]\n",
    "\n",
    "new_numbers = round_numbers(numbers)\n",
    "print(new_numbers)\n",
    "# Complete the code\n",
    "# Return value should be [3.14, 2.72, 1.62, 0.58]"
   ]
  },
  {
   "cell_type": "markdown",
   "metadata": {},
   "source": [
    "***\n",
    "\n",
    "## <p style=\"background-color: grey; color: white \"> ◼️  List </p>\n",
    "# <p style=\"font-family: Arial; font-size:1.4em;color:red;\"> 8. filter() </p>\n",
    "![filter](./png/Filter.png)\n"
   ]
  },
  {
   "cell_type": "markdown",
   "metadata": {},
   "source": [
    "#### The filter() function in Python is used to filter elements from an iterable (like a list) based on a condition. It applies a given function to each item and includes only the items for which the function returns True.\n",
    "\n",
    "#### Syntax:\n",
    "```\n",
    "filter(function, iterable)\n",
    "```\n",
    "\n",
    "#### function: A function that defines the condition or test for filtering the elements.\n",
    "#### iterable: An iterable (e.g., a list) from which you want to filter elements.\n",
    "#### Like map(), the filter() function returns an iterator, so it’s often converted into a list using list().\n",
    "\n",
    "#### Example 1: Filter out even numbers from a list\n",
    "```\n",
    "def is_even(n):\n",
    "    return n % 2 == 0\n",
    "\n",
    "numbers = [1, 2, 3, 4, 5, 6, 7, 8, 9, 10]\n",
    "filtered_numbers = list(filter(is_even, numbers))\n",
    "print(filtered_numbers)\n",
    "```"
   ]
  },
  {
   "cell_type": "code",
   "execution_count": 85,
   "metadata": {},
   "outputs": [
    {
     "name": "stdout",
     "output_type": "stream",
     "text": [
      "[2, 4, 6, 8, 10]\n"
     ]
    }
   ],
   "source": [
    "def is_even(n):\n",
    "    return n % 2 == 0\n",
    "\n",
    "numbers = [1, 2, 3, 4, 5, 6, 7, 8, 9, 10]\n",
    "filtered_numbers = list(filter(is_even, numbers))\n",
    "print(filtered_numbers)"
   ]
  },
  {
   "cell_type": "markdown",
   "metadata": {},
   "source": [
    "<p style=\"font-family: Arial; font-size:1.4em; background-color: yellow; color:black;\"> Problem 8.1  filter()</p>"
   ]
  },
  {
   "cell_type": "markdown",
   "metadata": {},
   "source": [
    "#### Filter Out Words Starting with a Vowel\n",
    "#### Definition: Write a program that filters out all words starting with a vowel (a, e, i, o, u) using filter().\n",
    "```\n",
    "Example:\n",
    "\n",
    "words = ['apple', 'banana', 'orange', 'grape', 'umbrella']\n",
    "# Your filter() usage should return ['banana', 'grape']\n",
    "Hint: Use a lambda function to check the first letter of each word.\n",
    "\n",
    "def filter_words(words):\n",
    "    #################################\n",
    "    # Write your code here #\n",
    "    #################################\n",
    "    return new_list\n",
    "\n",
    "words = ['apple', 'banana', 'orange', 'grape', 'umbrella']\n",
    "# Complete the code\n",
    "# Return value should be ['banana', 'grape']\n",
    "```"
   ]
  },
  {
   "cell_type": "code",
   "execution_count": 93,
   "metadata": {},
   "outputs": [
    {
     "name": "stdout",
     "output_type": "stream",
     "text": [
      "['banana', 'grape']\n"
     ]
    }
   ],
   "source": [
    "# Complete the code\n",
    "def filter_words(words):\n",
    "\n",
    "    new_list = (list(filter(lambda word: not word.startswith(('a', 'e', 'i', 'o', 'u')), words)))\n",
    "\n",
    "    return new_list \n",
    "\n",
    "    \n",
    "\n",
    "words = ['apple', 'banana', 'orange', 'grape', 'umbrella']\n",
    "filtered_words = filter_words(words)\n",
    "print(filtered_words)\n",
    "\n",
    "# Return value should be ['banana', 'grape']\n"
   ]
  },
  {
   "cell_type": "markdown",
   "metadata": {},
   "source": [
    "<p style=\"font-family: Arial; font-size:1.4em; background-color: yellow; color:black;\"> Problem 8.2  filter() : Filter String values</p>"
   ]
  },
  {
   "cell_type": "markdown",
   "metadata": {},
   "source": [
    "#### Problem 8: Filter Elements from a List of Tuples\n",
    "#### Definition: Given a list of tuples, filter out all tuples where the gap of two numbers is greater than 5 \n",
    "\n",
    "```\n",
    "Example:\n",
    "\n",
    "tuples = [(1, 10), (4, 69), (20, 15), (7, 8)]\n",
    "# Your filter() usage should return [(20, 15), (7, 8)]\n",
    "\n",
    "def filter_tuples(tuples):\n",
    "    #################################\n",
    "    # Write your code here #\n",
    "    #################################\n",
    "    return new_list\n",
    "\n",
    "tuples = [(1, 3), (4, 6), (2, 5), (7, 8)]\n",
    "new_list = filter_tuples(tuples)\n",
    "print(new_list)\n",
    "```\n"
   ]
  },
  {
   "cell_type": "code",
   "execution_count": 100,
   "metadata": {},
   "outputs": [
    {
     "name": "stdout",
     "output_type": "stream",
     "text": [
      "[(20, 15), (7, 8)]\n"
     ]
    }
   ],
   "source": [
    "# Completing the code:\n",
    "def filter_tuples(tuples):\n",
    "\n",
    "    \n",
    "    \n",
    "    new_list = list(filter(lambda n: not abs(n[0] - n[1]) > 5 , tuples))\n",
    "    \n",
    "\n",
    "    return new_list\n",
    "\n",
    "\n",
    "tuples = [(1, 10), (4, 69), (20, 15), (7, 8)]\n",
    "print(filter_tuples(tuples))\n",
    "\n",
    "# Return value should be [(20, 15), (7, 8)]\n"
   ]
  },
  {
   "cell_type": "markdown",
   "metadata": {},
   "source": [
    "<p style=\"font-family: Arial; font-size:1.4em; background-color: yellow; color:black;\"> Problem 8.3  filter(): Prime Number</p>"
   ]
  },
  {
   "cell_type": "markdown",
   "metadata": {},
   "source": [
    "#### Problem 8: Filter Elements from a List of inter values \n",
    "#### Definition: Write a program that filters out all prime numbers from a list of integers using filter().\n",
    "\n",
    "```\n",
    "Example:\n",
    "\n",
    "numbers = [1, 2, 3, 4, 5, 6, 7, 8, 9, 10]\n",
    "# Your filter() usage should return [2, 3, 5, 7]\n",
    "\n",
    "def filter_tuples(numbers):\n",
    "    #################################\n",
    "    # Write your code here #\n",
    "    #################################\n",
    "    return new_list\n",
    "\n",
    "numbers = [1, 2, 3, 4, 5, 6, 7, 8, 9, 10]\n",
    "new_list = filter_tuples(tuples)\n",
    "print(new_list)\n",
    "```\n"
   ]
  },
  {
   "cell_type": "code",
   "execution_count": 104,
   "metadata": {},
   "outputs": [
    {
     "name": "stdout",
     "output_type": "stream",
     "text": [
      "[2, 3, 5, 7]\n"
     ]
    }
   ],
   "source": [
    "# Completing the code:\n",
    "\n",
    "# define function to check if number n is prime:\n",
    "def is_prime(n):\n",
    "    if n <= 1:\n",
    "        return False  # n is not prime\n",
    "\n",
    "    # checking from 2 and up:\n",
    "    # since very number n is divisible by 1 and its self ,\n",
    "    # making a loop to check if there are more than 2 divisors of n:\n",
    "\n",
    "    for i in range(2, int(n**0.5) + 1): # cheching to the limit of n square root to void redendancy(inclusive)\n",
    "                                      # converted to integer, reason of square root is often a float\n",
    "                                      # adding 1 to include the square root number of n in the range\n",
    "\n",
    "        if n % i == 0: # if one more divisor is found so n is not prime in that case\n",
    "           return False  # n is not prime\n",
    "\n",
    "    return True  # n is prime                  \n",
    "   \n",
    "def filter_primes(numbers):\n",
    "\n",
    "    # using filter function to extract prime numbers, by applying a condition to check (is_prime) with lambda.\n",
    "    new_list = list(filter(lambda n: is_prime(n), numbers))\n",
    "    return new_list\n",
    "    \n",
    "\n",
    "\n",
    "\n",
    "numbers = [1, 2, 3, 4, 5, 6, 7, 8, 9, 10]\n",
    "filtered_primes = filter_primes(numbers)\n",
    "\n",
    "print(filtered_primes)\n",
    "\n",
    "# Return value should be [2, 3, 5, 7]"
   ]
  },
  {
   "cell_type": "markdown",
   "metadata": {},
   "source": [
    "<p style=\"font-family: Arial; font-size:1.4em; background-color: yellow; color:black;\"> Problem 8.4  filter(): Great than the right element in the list</p>"
   ]
  },
  {
   "cell_type": "markdown",
   "metadata": {},
   "source": [
    "#### Problem 8.4 : Filter Elements from a List of inter values \n",
    "#### Definition: Write a program that filters out all elements that are greater than the right element in the list.(Exclude the last element) \n",
    "#### Use the filter() and zip() functions\n",
    "\n",
    "```\n",
    "Example:\n",
    "\n",
    "numbers = [10, 5, 6, 15, 20, 25, 45, 30, 55, 50]\n",
    "# Your filter() usage should return [10, 45, 55] becasue 10 > 5, 45 > 30, 55 > 50 \n",
    "\n",
    "def filter_gtRight(numbers):\n",
    "    #################################\n",
    "    # Write your code here #\n",
    "    #################################\n",
    "    return new_list\n",
    "\n",
    "numbers = [10, 5, 6, 15, 20, 25, 45, 30, 55, 50]\n",
    "new_list = filter_gtRight(numbers)\n",
    "print(new_list)\n",
    "```\n"
   ]
  },
  {
   "cell_type": "code",
   "execution_count": 105,
   "metadata": {},
   "outputs": [
    {
     "name": "stdout",
     "output_type": "stream",
     "text": [
      "[10, 45, 55]\n"
     ]
    }
   ],
   "source": [
    "numbers = [10, 5, 6, 15, 20, 25, 45, 30, 55, 50]\n",
    "\n",
    "# Complete the code\n",
    "def filter_gtRight(numbers):\n",
    "    #################################\n",
    "    # Write your code here #\n",
    "    #################################\n",
    "    tuple_list = list(zip(numbers, numbers[1:]))\n",
    "    new_list = [x[0] for x in list(filter(lambda x: x[0] > x[1], tuple_list))]\n",
    "    return new_list\n",
    "\n",
    "numbers = [10, 5, 6, 15, 20, 25, 45, 30, 55, 50]\n",
    "new_list = filter_gtRight(numbers)\n",
    "print(new_list)\n",
    "# Return value should be [10, 45, 55]"
   ]
  },
  {
   "cell_type": "markdown",
   "metadata": {},
   "source": [
    "***\n",
    "\n",
    "## <p style=\"background-color: grey; color: white \"> ◼️  List </p>\n",
    "# <p style=\"font-family: Arial; font-size:1.4em;color:red;\"> 9. Reduce() </p>\n",
    "\n",
    "![reduce](./png/Reduce.png)\n"
   ]
  },
  {
   "cell_type": "markdown",
   "metadata": {},
   "source": [
    "#### The reduce() function in Python is used to apply a function cumulatively to the items of an iterable, from left to right, so as to reduce the iterable to a single output value. It is useful for performing a cumulative operation on a list of elements.\n",
    "\n",
    "#### Syntax:\n",
    "```\n",
    "reduce(function, iterable)\n",
    "```\n",
    "\n",
    "#### function: A function that takes two arguments and returns a single value.\n",
    "#### iterable: An iterable (e.g., a list) on which the cumulative operation is performed.\n",
    "\n",
    "<mark>\n",
    "To use reduce(), you need to import it from the functools module.\n",
    "</mark>\n",
    "\n",
    "```\n",
    "    from functools import reduce\n",
    "```"
   ]
  },
  {
   "cell_type": "markdown",
   "metadata": {},
   "source": [
    "![Get Sum of the list by using reduce()](./png/Reduce2.png)\n"
   ]
  },
  {
   "cell_type": "code",
   "execution_count": 23,
   "metadata": {},
   "outputs": [
    {
     "name": "stdout",
     "output_type": "stream",
     "text": [
      "15\n",
      "120\n"
     ]
    }
   ],
   "source": [
    "# Example 1: Sum of all elements in a list \n",
    "from functools import reduce\n",
    "\n",
    "numbers = [1, 2, 3, 4, 5]\n",
    "total = reduce(lambda x, y: x + y, numbers)\n",
    "print(total)\n",
    "\n",
    "# Example 2: Product of all elements in a list\n",
    "numbers = [1, 2, 3, 4, 5]\n",
    "total = reduce(lambda x, y: x * y, numbers)\n",
    "print(total)"
   ]
  },
  {
   "cell_type": "markdown",
   "metadata": {},
   "source": [
    "<p style=\"font-family: Arial; font-size:1.4em; background-color: yellow; color:black;\"> Problem 9.1  reduce():  average</p>"
   ]
  },
  {
   "cell_type": "markdown",
   "metadata": {},
   "source": [
    "#### Write a function called getAVG(numbers) that takes a list of integer values and computes the average of the list.\n",
    "#### Use the reduce() function and create your lambda function to compute the average\n",
    "```\n",
    "numbers = [1, 2, 3, 4, 5]\n",
    "# Your function should return 3 because (1+2+3+4+5)/5 = 3\n",
    "\n",
    "def getAVG(numbers):\n",
    "    #################################\n",
    "    # Write your code here #\n",
    "    #################################\n",
    "    return average\n"
   ]
  },
  {
   "cell_type": "code",
   "execution_count": 109,
   "metadata": {},
   "outputs": [
    {
     "name": "stdout",
     "output_type": "stream",
     "text": [
      "3.0\n"
     ]
    }
   ],
   "source": [
    "from functools import reduce\n",
    "\n",
    "def getAVG(numbers):\n",
    "    #################################\n",
    "    # Write your code here #\n",
    "    #################################\n",
    "\n",
    "    # calculating the average using reduce with lambda:\n",
    "    total = reduce(lambda a, b: a + b, numbers)\n",
    "    average = total / len(numbers) \n",
    "\n",
    "    return average\n",
    "\n",
    "numbers = [1, 2, 3, 4, 5]\n",
    "average = getAVG(numbers)\n",
    "print(average)\n",
    "# Return value should be 3\n",
    "\n"
   ]
  },
  {
   "cell_type": "markdown",
   "metadata": {},
   "source": [
    "<p style=\"font-family: Arial; font-size:1.4em; background-color: yellow; color:black;\"> Problem 9.2  reduce()</p>"
   ]
  },
  {
   "cell_type": "markdown",
   "metadata": {},
   "source": [
    "#### Write a function called getMaxSum(numbers) that takes a list of lists and computes the sum of the maximum elements from each sublist in numbers.\"\n",
    "#### Requirement\n",
    "#### Use map() and reduce( ) function and create your lambda function to compute the max element summation\n",
    "```\n",
    "numbers = [[1, 2, 3], [4, 5, 6], [7, 8, 9]]\n",
    "# Your function should return 21 because 1+4+7 = 21\n",
    "\n",
    "def getMaxSum(numbers):\n",
    "    #################################\n",
    "    # Write your code here #\n",
    "    #################################\n",
    "    return new_list\n",
    "```\n",
    "\n",
    "#### Hint: Use the map() and reduce() functions\n",
    "```\n",
    "maxlist = list(map(lambda x:max(x), numbers))\n",
    "maxsum = reduce(lambda x,y:x+y, maxlist)\n",
    "print(maxsum)\n",
    "```"
   ]
  },
  {
   "cell_type": "code",
   "execution_count": 113,
   "metadata": {},
   "outputs": [
    {
     "name": "stdout",
     "output_type": "stream",
     "text": [
      "18\n"
     ]
    }
   ],
   "source": [
    "####### Complete the code\n",
    "def getMaxSum(numbers):\n",
    "    #################################\n",
    "    # Write your code here #\n",
    "    #################################\n",
    "\n",
    "    maxlists = list(map(lambda sublst: max(sublst), numbers))\n",
    "\n",
    "    maxsum = reduce(lambda a, b: a + b, maxlists)\n",
    "\n",
    "\n",
    "    return maxsum \n",
    "\n",
    "\n",
    "numbers = [[1, 2, 3], [4, 5, 6], [7, 8, 9]]\n",
    "maxsum = getMaxSum(numbers)\n",
    "print(maxsum)\n",
    "# Return value should be 18\n"
   ]
  },
  {
   "cell_type": "markdown",
   "metadata": {},
   "source": [
    "***\n",
    "\n",
    "## <p style=\"background-color: grey; color: white \"> ◼️  List </p>\n",
    "# <p style=\"font-family: Arial; font-size:1.4em;color:red;\"> 10. Programming Exercises </p>\n"
   ]
  },
  {
   "cell_type": "markdown",
   "metadata": {},
   "source": [
    "<p style=\"font-family: Arial; font-size:1.4em; background-color: yellow; color:black;\"> Problem 10.1</p>\n",
    "\n",
    "#### 1. Circular rotation of elements (both left and right)\n",
    "#### For example,\n",
    "```\n",
    "Input:\n",
    "numbers = [1, 2, 3, 4, 5]\n",
    "k = 3\n",
    "\n",
    "Output:\n",
    "[4, 5, 1, 2, 3]\n",
    "\n",
    "k = -4\n",
    "Output:\n",
    "[2, 3, 4, 5, 1]\n",
    "\n",
    "def circular_rotation(numbers, k):\n",
    "    #################################\n",
    "    # Write your code here #\n",
    "    #################################\n",
    "    return new_list\n",
    "```"
   ]
  },
  {
   "cell_type": "code",
   "execution_count": 115,
   "metadata": {},
   "outputs": [
    {
     "name": "stdout",
     "output_type": "stream",
     "text": [
      "[4, 5, 1, 2, 3]\n",
      "[2, 3, 4, 5, 1]\n"
     ]
    }
   ],
   "source": [
    "# Completing the code:\n",
    "def circular_rotation(numbers, K):\n",
    "\n",
    "    new_list = numbers[0:K]       # the new list receive the remaining elements\n",
    "    new_list[:0] = numbers[K:]    # insert the sliced part at the begin of the new list\n",
    "\n",
    "    return new_list\n",
    "\n",
    "numbers = [1, 2, 3, 4, 5]\n",
    "K = 3\n",
    "\n",
    "result = circular_rotation(numbers, K) \n",
    "print(result)   \n",
    "\n",
    "K1 = -4\n",
    "result1 = circular_rotation(numbers, K1) \n",
    "print(result1)   \n"
   ]
  },
  {
   "cell_type": "markdown",
   "metadata": {},
   "source": [
    "<p style=\"font-family: Arial; font-size:1.4em; background-color: yellow; color:black;\"> Problem 10.2</p>\n",
    "\n",
    "#### 2. Finding the continuous longest increasing subsequence\n",
    "#### Example 1,\n",
    "```\n",
    "Input:\n",
    "numbers = [10, 9, 2, 5, 3, 7, 101, 18]\n",
    "Output:\n",
    "[3, 7, 101]\n",
    "\n",
    "```\n",
    "#### Example 2,\n",
    "```\n",
    "Input:\n",
    "numbers = [0, 1, 0, 3, 2, 3]\n",
    "Output:\n",
    "[0, 3]  Because [0,3] and [2,3] are the same length. Choose the first occurence.\n",
    "\n",
    "def find_longest_increasing_subsequence(numbers):\n",
    "    #################################\n",
    "    # Write your code here #\n",
    "    #################################\n",
    "    return new_list\n",
    "```"
   ]
  },
  {
   "cell_type": "code",
   "execution_count": 183,
   "metadata": {},
   "outputs": [
    {
     "name": "stdout",
     "output_type": "stream",
     "text": [
      "[3, 7, 101]\n"
     ]
    }
   ],
   "source": [
    "# completing the code:\n",
    "\n",
    "def find_longest_increasing_subsequence(numbers):\n",
    "\n",
    "    zipped = list(zip(numbers[:-1], numbers[1:]))\n",
    "\n",
    "    con = []\n",
    "\n",
    "    for t in zipped:\n",
    "        if t[0] < t[1]:\n",
    "            con.append(t)\n",
    " \n",
    "\n",
    "    # List to hold combined tuples\n",
    "    combined = []\n",
    "\n",
    "    # Iterate through each tuple and keep track of merged indices\n",
    "    merged_indices = set()\n",
    "\n",
    "    for i in range(len(con)):\n",
    "\n",
    "        if i in merged_indices:\n",
    "           continue  # Skip already merged tuples\n",
    "\n",
    "        # Start with the current tuple in a list to maintain order\n",
    "        current_combined = list(con[i])\n",
    "\n",
    "        for j in range(i + 1, len(con)):\n",
    "            # Calculate the intersection of the two tuples\n",
    "            intersection = set(current_combined).intersection(con[j])\n",
    "\n",
    "            \n",
    "            # If there's an intersection, merge the tuples\n",
    "            if intersection:\n",
    "                for number in con[j]:\n",
    "                    if number not in current_combined:\n",
    "                        current_combined.append(number)  # Add new numbers to maintain order\n",
    "                merged_indices.add(j)  # Mark the second tuple as merged\n",
    "\n",
    "        # Add the combined tuple to the result, converted back to a tuple\n",
    "        combined.append(tuple(current_combined))\n",
    "  \n",
    "\n",
    "    longest_tuple = ()\n",
    "    max_len = 0\n",
    "    for t in combined:\n",
    "        if len(t) > max_len:\n",
    "            longest_tuple = t\n",
    "            max_len = len(t)\n",
    "\n",
    "    longest_seq = list(longest_tuple)\n",
    "\n",
    "    return longest_seq\n",
    "\n",
    "\n",
    "\n",
    "\n",
    "numbers = [10, 9, 2, 5, 3, 7, 101, 18]\n",
    "result = find_longest_increasing_subsequence(numbers)\n",
    "print(result)\n",
    "\n",
    "\n",
    "\n",
    "\n",
    "\n"
   ]
  },
  {
   "cell_type": "markdown",
   "metadata": {},
   "source": [
    "<p style=\"font-family: Arial; font-size:1.4em; background-color: yellow; color:black;\"> Problem 10.3</p>\n",
    "\n",
    "#### 3. Merging two sorted lists in-place without using extra space\n",
    "#### Example 1,\n",
    "```\n",
    "Input:\n",
    "    numbers1 = [1, 3, 5, 7, 9]\n",
    "    numbers2 = [2, 4, 6, 8, 10]\n",
    "Output:\n",
    "    new_list = [1, 2, 3, 4, 5, 6, 7, 8, 9, 10]\n",
    "\n",
    "Input:\n",
    "    numbers1 = [1,2,3,4,5]\n",
    "    numbers2 = [6,7,8,9,10]\n",
    "Output:\n",
    "    new_list = [1,2,3,4,5,6,7,8,9,10]\n",
    "\n",
    "def merge_sorted_lists(numbers1, numbers2):\n",
    "    #################################\n",
    "    # Write your code here #\n",
    "    #################################\n",
    "    return new_list\n",
    "\n",
    "```"
   ]
  },
  {
   "cell_type": "code",
   "execution_count": 124,
   "metadata": {},
   "outputs": [
    {
     "name": "stdout",
     "output_type": "stream",
     "text": [
      "[1, 2, 3, 4, 5, 6, 7, 8, 9, 10]\n",
      "[1, 2, 3, 4, 5, 6, 7, 8, 9, 10]\n"
     ]
    }
   ],
   "source": [
    "# completing the code:\n",
    "\n",
    "def merge_sorted_lists(numbers1, numbers2):\n",
    "\n",
    "    # combine and remove duplicates:\n",
    "    combined_list = set(numbers1) | set(numbers2)  # using union with sets. \n",
    "\n",
    "    \n",
    "    return list(combined_list)  \n",
    "\n",
    "numbers1 = [1, 3, 5, 7, 9]\n",
    "numbers2 = [2, 4, 6, 8, 10]    \n",
    "result1 = merge_sorted_lists(numbers1, numbers2)\n",
    "print(result1)\n",
    "\n",
    "numbers1 = [1,2,3,4,5]\n",
    "numbers2 = [6,7,8,9,10]\n",
    "\n",
    "results2 = merge_sorted_lists(numbers1, numbers2)\n",
    "print(results2)"
   ]
  },
  {
   "cell_type": "markdown",
   "metadata": {},
   "source": [
    "<p style=\"font-family: Arial; font-size:1.4em; background-color: yellow; color:black;\"> Problem 10.4</p>\n",
    "\n",
    "#### 4. map() and zip(): Make the function that returns the list of list of years, list of months, and list of days\n",
    "#### Example 1,\n",
    "```\n",
    "Input:\n",
    "    dates = ['2020-12-01', '2021-03-31', '2022-09-13', '2023-04-03']\n",
    "Output:\n",
    "    new_dates_list = [ [2020, 2021, 2022, 2023], [3, 4, 9, 12], [1, 3, 13, 31] ]    # The sublist must be sorted\n",
    "    ## Hint: Use the map() and zip() functions\n",
    "    ## Requirement: The sublist must be sorted\n",
    "```\n",
    "\n",
    "\n"
   ]
  },
  {
   "cell_type": "code",
   "execution_count": 149,
   "metadata": {},
   "outputs": [
    {
     "name": "stdout",
     "output_type": "stream",
     "text": [
      "[[2020, 2021, 2022, 2023], [3, 4, 9, 12], [1, 3, 13, 31]]\n"
     ]
    }
   ],
   "source": [
    "\n",
    "def split_dates(dates):\n",
    "    #################################\n",
    "    # Write your code here #\n",
    "    #################################\n",
    "\n",
    "    # splite each elements in the list 'dates':\n",
    "    splited_elemnts = [date.split('-') for date in dates]\n",
    "    \n",
    "    \n",
    "\n",
    "    # groupe years, months and days using zip function:\n",
    "    zipped = list(zip(*splited_elemnts))\n",
    "    \n",
    "    \n",
    "    # convert strings to integers:\n",
    "    new_list = [list(map(int, group)) for group in zipped]\n",
    "\n",
    "    \n",
    "    # sort each group in place:\n",
    "    new_list[1].sort()\n",
    "    new_list[2].sort()\n",
    "\n",
    "    \n",
    "    \n",
    "\n",
    "    return new_list\n",
    "\n",
    "dates = ['2020-12-01', '2021-03-31', '2022-09-13', '2023-04-03']\n",
    "new_dates_list = split_dates(dates)\n",
    "print(new_dates_list)\n",
    "# Return value should be [[2020, 2021, 2022, 2023], [3, 4, 9, 12], [1, 3, 13, 31]]\n",
    "# Notice that the sublist is the sorted list, not the tuple"
   ]
  },
  {
   "cell_type": "markdown",
   "metadata": {},
   "source": [
    "<p style=\"font-family: Arial; font-size:1.5em; background-color: yellow; color:black;\"> Problem 10.5</p>\n",
    "\n",
    "#### 5. map() and sorted(): Make the function that returns the list of list that contains the ID, Name, and Phone Number.\n",
    "#### The sublist has the unordered list of ID, Name, and Phone Number. \n",
    "### For example, \n",
    "```\n",
    "Input:\n",
    "    students_list = [[9000000001, \"Jane Doe\", \"555-555-5678\"], [\"Macy Nan\", 9000000002, \"966-555-5678\"], [\"888-555-1234\", 9000000003, \"Cynthia Purdue\"]]\n",
    "Output:\n",
    "    students_by_field = [ [9000000001, 9000000002, 9000000003], [\"Cynthia Perdue\", \"Jane Doe\", \"Macy Nan\"], [\"555-555-1234\", \"555-555-5678\", \"966-555-5678\"] ]\n",
    "    ## Hint: Use the map() and zip() functions\n",
    "    ## Requirement: The sublist must be sorted\n",
    "```\n",
    "\n"
   ]
  },
  {
   "cell_type": "code",
   "execution_count": 178,
   "metadata": {},
   "outputs": [
    {
     "name": "stdout",
     "output_type": "stream",
     "text": [
      "[[9000000001, 9000000002, 9000000003], ['Cynthia Perdue', 'Jane Doe', 'Macy Nan'], ['555-555-5678', '888-555-1234', '966-555-5678']]\n"
     ]
    }
   ],
   "source": [
    "import re\n",
    "def split_students(students_list):\n",
    "    #################################\n",
    "    # Write your code here #\n",
    "    #################################\n",
    "    \n",
    "    # make all sub list or the students record in the same format type: (id, name, telphone_number)\n",
    "    students_list[1][1], students_list[1][0] = students_list[1][0], students_list[1][1] \n",
    "  \n",
    "    students_list[2][1], students_list[2][0] = students_list[2][0], students_list[2][1] \n",
    "\n",
    "    students_list[2][1], students_list[2][2] = students_list[2][2], students_list[2][1] \n",
    "   \n",
    "      \n",
    "    # transpose using zip function:\n",
    "    transposed = list(zip(*students_list))\n",
    "\n",
    "    # sort the new list in order ascendent:    \n",
    "    new_list = list(map(lambda x: sorted(x), transposed))\n",
    "   \n",
    "\n",
    "    \n",
    "    return new_list\n",
    "\n",
    "students_list = [[9000000001, \"Jane Doe\", \"555-555-5678\"], [\"Macy Nan\", 9000000002, \"966-555-5678\"], [\"888-555-1234\", 9000000003, \"Cynthia Perdue\"]]\n",
    "students_by_field = split_students(students_list)\n",
    "print(students_by_field)\n"
   ]
  }
 ],
 "metadata": {
  "kernelspec": {
   "display_name": "Python 3.8.5 ('base')",
   "language": "python",
   "name": "python3"
  },
  "language_info": {
   "codemirror_mode": {
    "name": "ipython",
    "version": 3
   },
   "file_extension": ".py",
   "mimetype": "text/x-python",
   "name": "python",
   "nbconvert_exporter": "python",
   "pygments_lexer": "ipython3",
   "version": "3.8.5"
  },
  "vscode": {
   "interpreter": {
    "hash": "ad2bdc8ecc057115af97d19610ffacc2b4e99fae6737bb82f5d7fb13d2f2c186"
   }
  }
 },
 "nbformat": 4,
 "nbformat_minor": 2
}
